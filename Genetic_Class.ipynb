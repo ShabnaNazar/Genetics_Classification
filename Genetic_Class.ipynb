{
 "cells": [
  {
   "cell_type": "markdown",
   "metadata": {},
   "source": [
    "#### Question 1"
   ]
  },
  {
   "cell_type": "markdown",
   "metadata": {},
   "source": [
    "                Stolen       Not Stolen     Total\n",
    "        Red        3              2           5\n",
    "        Yellow     2              3           5\n",
    "        Total      5              5           10\n",
    "        \n",
    "a)Probability that a car is Yellow given that it is stole\n",
    "  P(Y|S) = P(Y&S)/P(S) = 2/10/5/10 = 2/10 * 10/5 = 2/5 = 40%\n",
    "   \n",
    "b) Probablity that red given that it is not stolen?\n",
    "  P(R|N) = P(R&N)/P(N) = 2/10/5/10 = 2/10 * 10/5 = 2/5 = 40%"
   ]
  },
  {
   "cell_type": "markdown",
   "metadata": {},
   "source": [
    "##### Question 2"
   ]
  },
  {
   "cell_type": "code",
   "execution_count": 1,
   "metadata": {},
   "outputs": [],
   "source": [
    "import pandas as pd\n",
    "import warnings\n",
    "warnings.filterwarnings('ignore')\n",
    "import seaborn as sns\n",
    "import matplotlib.pyplot as plt\n",
    "%matplotlib inline"
   ]
  },
  {
   "cell_type": "code",
   "execution_count": 2,
   "metadata": {},
   "outputs": [],
   "source": [
    "genetics_df = pd.read_csv('genetics.csv')"
   ]
  },
  {
   "cell_type": "markdown",
   "metadata": {},
   "source": [
    " Print the column names"
   ]
  },
  {
   "cell_type": "code",
   "execution_count": 3,
   "metadata": {},
   "outputs": [
    {
     "name": "stdout",
     "output_type": "stream",
     "text": [
      "Index(['CHROM', 'POS', 'REF', 'ALT', 'AF_ESP', 'AF_EXAC', 'AF_TGP', 'CLNDISDB',\n",
      "       'CLNDISDBINCL', 'CLNDN', 'CLNDNINCL', 'CLNHGVS', 'CLNSIGINCL', 'CLNVC',\n",
      "       'CLNVI', 'MC', 'ORIGIN', 'SSR', 'CLASS', 'Allele', 'Consequence',\n",
      "       'IMPACT', 'SYMBOL', 'Feature_type', 'Feature', 'BIOTYPE', 'EXON',\n",
      "       'INTRON', 'cDNA_position', 'CDS_position', 'Protein_position',\n",
      "       'Amino_acids', 'Codons', 'DISTANCE', 'STRAND', 'BAM_EDIT', 'SIFT',\n",
      "       'PolyPhen', 'MOTIF_NAME', 'MOTIF_POS', 'HIGH_INF_POS',\n",
      "       'MOTIF_SCORE_CHANGE', 'LoFtool', 'CADD_PHRED', 'CADD_RAW', 'BLOSUM62'],\n",
      "      dtype='object')\n"
     ]
    }
   ],
   "source": [
    "print(genetics_df.columns)"
   ]
  },
  {
   "cell_type": "code",
   "execution_count": 4,
   "metadata": {},
   "outputs": [
    {
     "name": "stdout",
     "output_type": "stream",
     "text": [
      "['CHROM', 'POS', 'REF', 'ALT', 'AF_ESP', 'AF_EXAC', 'AF_TGP', 'CLNDISDB', 'CLNDISDBINCL', 'CLNDN', 'CLNDNINCL', 'CLNHGVS', 'CLNSIGINCL', 'CLNVC', 'CLNVI', 'MC', 'ORIGIN', 'SSR', 'CLASS', 'Allele', 'Consequence', 'IMPACT', 'SYMBOL', 'Feature_type', 'Feature', 'BIOTYPE', 'EXON', 'INTRON', 'cDNA_position', 'CDS_position', 'Protein_position', 'Amino_acids', 'Codons', 'DISTANCE', 'STRAND', 'BAM_EDIT', 'SIFT', 'PolyPhen', 'MOTIF_NAME', 'MOTIF_POS', 'HIGH_INF_POS', 'MOTIF_SCORE_CHANGE', 'LoFtool', 'CADD_PHRED', 'CADD_RAW', 'BLOSUM62']\n"
     ]
    }
   ],
   "source": [
    "all_columns = genetics_df.columns.tolist()\n",
    "print(all_columns)"
   ]
  },
  {
   "cell_type": "markdown",
   "metadata": {},
   "source": [
    "Print first five rows of the dataframe"
   ]
  },
  {
   "cell_type": "code",
   "execution_count": 5,
   "metadata": {},
   "outputs": [
    {
     "name": "stdout",
     "output_type": "stream",
     "text": [
      "  CHROM      POS REF ALT  AF_ESP  AF_EXAC  AF_TGP  \\\n",
      "0     1  1168180   G   C  0.0771  0.10020  0.1066   \n",
      "1     1  1470752   G   A  0.0000  0.00000  0.0000   \n",
      "2     1  1737942   A   G  0.0000  0.00001  0.0000   \n",
      "3     1  2160305   G   A  0.0000  0.00000  0.0000   \n",
      "4     1  2160305   G   T  0.0000  0.00000  0.0000   \n",
      "\n",
      "                                            CLNDISDB CLNDISDBINCL  \\\n",
      "0                                    MedGen:CN169374          NaN   \n",
      "1  MedGen:C1843891,OMIM:607454,Orphanet:ORPHA9877...          NaN   \n",
      "2  Human_Phenotype_Ontology:HP:0000486,MedGen:C00...          NaN   \n",
      "3  MedGen:C1321551,OMIM:182212,SNOMED_CT:83092002...          NaN   \n",
      "4     MedGen:C1321551,OMIM:182212,SNOMED_CT:83092002          NaN   \n",
      "\n",
      "                                               CLNDN  ...  \\\n",
      "0                                      not_specified  ...   \n",
      "1             Spinocerebellar_ataxia_21|not_provided  ...   \n",
      "2  Strabismus|Nystagmus|Hypothyroidism|Intellectu...  ...   \n",
      "3          Shprintzen-Goldberg_syndrome|not_provided  ...   \n",
      "4                       Shprintzen-Goldberg_syndrome  ...   \n",
      "\n",
      "                         SIFT           PolyPhen MOTIF_NAME MOTIF_POS  \\\n",
      "0                   tolerated             benign        NaN       NaN   \n",
      "1  deleterious_low_confidence             benign        NaN       NaN   \n",
      "2                 deleterious  probably_damaging        NaN       NaN   \n",
      "3                         NaN                NaN        NaN       NaN   \n",
      "4                         NaN                NaN        NaN       NaN   \n",
      "\n",
      "  HIGH_INF_POS MOTIF_SCORE_CHANGE  LoFtool  CADD_PHRED  CADD_RAW BLOSUM62  \n",
      "0          NaN                NaN      NaN       1.053 -0.208682      2.0  \n",
      "1          NaN                NaN      NaN      31.000  6.517838     -3.0  \n",
      "2          NaN                NaN      NaN      28.100  6.061752     -1.0  \n",
      "3          NaN                NaN      NaN      22.500  3.114491      NaN  \n",
      "4          NaN                NaN      NaN      24.700  4.766224     -3.0  \n",
      "\n",
      "[5 rows x 46 columns]\n"
     ]
    }
   ],
   "source": [
    "print(genetics_df.head(5))"
   ]
  },
  {
   "cell_type": "markdown",
   "metadata": {},
   "source": [
    "Check if there are any missing values"
   ]
  },
  {
   "cell_type": "code",
   "execution_count": 6,
   "metadata": {},
   "outputs": [
    {
     "data": {
      "text/plain": [
       "CHROM                     0\n",
       "POS                       0\n",
       "REF                       0\n",
       "ALT                       0\n",
       "AF_ESP                    0\n",
       "AF_EXAC                   0\n",
       "AF_TGP                    0\n",
       "CLNDISDB                  0\n",
       "CLNDISDBINCL          65021\n",
       "CLNDN                     0\n",
       "CLNDNINCL             65021\n",
       "CLNHGVS                   0\n",
       "CLNSIGINCL            65021\n",
       "CLNVC                     0\n",
       "CLNVI                 37529\n",
       "MC                      846\n",
       "ORIGIN                    0\n",
       "SSR                   65058\n",
       "CLASS                     0\n",
       "Allele                    0\n",
       "Consequence               0\n",
       "IMPACT                    0\n",
       "SYMBOL                   16\n",
       "Feature_type             14\n",
       "Feature                  14\n",
       "BIOTYPE                  16\n",
       "EXON                   8893\n",
       "INTRON                56385\n",
       "cDNA_position          8884\n",
       "CDS_position           9955\n",
       "Protein_position       9955\n",
       "Amino_acids           10004\n",
       "Codons                10004\n",
       "DISTANCE              65080\n",
       "STRAND                   14\n",
       "BAM_EDIT              33219\n",
       "SIFT                  40352\n",
       "PolyPhen              40392\n",
       "MOTIF_NAME            65186\n",
       "MOTIF_POS             65186\n",
       "HIGH_INF_POS          65186\n",
       "MOTIF_SCORE_CHANGE    65186\n",
       "LoFtool                4213\n",
       "CADD_PHRED             1092\n",
       "CADD_RAW               1092\n",
       "BLOSUM62              39595\n",
       "dtype: int64"
      ]
     },
     "execution_count": 6,
     "metadata": {},
     "output_type": "execute_result"
    }
   ],
   "source": [
    "genetics_df.isnull().sum()"
   ]
  },
  {
   "cell_type": "code",
   "execution_count": 7,
   "metadata": {},
   "outputs": [
    {
     "data": {
      "text/html": [
       "<div>\n",
       "<style scoped>\n",
       "    .dataframe tbody tr th:only-of-type {\n",
       "        vertical-align: middle;\n",
       "    }\n",
       "\n",
       "    .dataframe tbody tr th {\n",
       "        vertical-align: top;\n",
       "    }\n",
       "\n",
       "    .dataframe thead th {\n",
       "        text-align: right;\n",
       "    }\n",
       "</style>\n",
       "<table border=\"1\" class=\"dataframe\">\n",
       "  <thead>\n",
       "    <tr style=\"text-align: right;\">\n",
       "      <th></th>\n",
       "      <th>column_name</th>\n",
       "      <th>percent_missing</th>\n",
       "    </tr>\n",
       "  </thead>\n",
       "  <tbody>\n",
       "    <tr>\n",
       "      <th>MOTIF_SCORE_CHANGE</th>\n",
       "      <td>MOTIF_SCORE_CHANGE</td>\n",
       "      <td>99.996932</td>\n",
       "    </tr>\n",
       "    <tr>\n",
       "      <th>HIGH_INF_POS</th>\n",
       "      <td>HIGH_INF_POS</td>\n",
       "      <td>99.996932</td>\n",
       "    </tr>\n",
       "    <tr>\n",
       "      <th>MOTIF_POS</th>\n",
       "      <td>MOTIF_POS</td>\n",
       "      <td>99.996932</td>\n",
       "    </tr>\n",
       "    <tr>\n",
       "      <th>MOTIF_NAME</th>\n",
       "      <td>MOTIF_NAME</td>\n",
       "      <td>99.996932</td>\n",
       "    </tr>\n",
       "    <tr>\n",
       "      <th>DISTANCE</th>\n",
       "      <td>DISTANCE</td>\n",
       "      <td>99.834325</td>\n",
       "    </tr>\n",
       "    <tr>\n",
       "      <th>SSR</th>\n",
       "      <td>SSR</td>\n",
       "      <td>99.800577</td>\n",
       "    </tr>\n",
       "    <tr>\n",
       "      <th>CLNSIGINCL</th>\n",
       "      <td>CLNSIGINCL</td>\n",
       "      <td>99.743818</td>\n",
       "    </tr>\n",
       "    <tr>\n",
       "      <th>CLNDISDBINCL</th>\n",
       "      <td>CLNDISDBINCL</td>\n",
       "      <td>99.743818</td>\n",
       "    </tr>\n",
       "    <tr>\n",
       "      <th>CLNDNINCL</th>\n",
       "      <td>CLNDNINCL</td>\n",
       "      <td>99.743818</td>\n",
       "    </tr>\n",
       "    <tr>\n",
       "      <th>INTRON</th>\n",
       "      <td>INTRON</td>\n",
       "      <td>86.495981</td>\n",
       "    </tr>\n",
       "    <tr>\n",
       "      <th>PolyPhen</th>\n",
       "      <td>PolyPhen</td>\n",
       "      <td>61.962324</td>\n",
       "    </tr>\n",
       "    <tr>\n",
       "      <th>SIFT</th>\n",
       "      <td>SIFT</td>\n",
       "      <td>61.900963</td>\n",
       "    </tr>\n",
       "    <tr>\n",
       "      <th>BLOSUM62</th>\n",
       "      <td>BLOSUM62</td>\n",
       "      <td>60.739707</td>\n",
       "    </tr>\n",
       "    <tr>\n",
       "      <th>CLNVI</th>\n",
       "      <td>CLNVI</td>\n",
       "      <td>57.570412</td>\n",
       "    </tr>\n",
       "    <tr>\n",
       "      <th>BAM_EDIT</th>\n",
       "      <td>BAM_EDIT</td>\n",
       "      <td>50.958765</td>\n",
       "    </tr>\n",
       "    <tr>\n",
       "      <th>Codons</th>\n",
       "      <td>Codons</td>\n",
       "      <td>15.346383</td>\n",
       "    </tr>\n",
       "    <tr>\n",
       "      <th>Amino_acids</th>\n",
       "      <td>Amino_acids</td>\n",
       "      <td>15.346383</td>\n",
       "    </tr>\n",
       "    <tr>\n",
       "      <th>Protein_position</th>\n",
       "      <td>Protein_position</td>\n",
       "      <td>15.271216</td>\n",
       "    </tr>\n",
       "    <tr>\n",
       "      <th>CDS_position</th>\n",
       "      <td>CDS_position</td>\n",
       "      <td>15.271216</td>\n",
       "    </tr>\n",
       "    <tr>\n",
       "      <th>EXON</th>\n",
       "      <td>EXON</td>\n",
       "      <td>13.642081</td>\n",
       "    </tr>\n",
       "    <tr>\n",
       "      <th>cDNA_position</th>\n",
       "      <td>cDNA_position</td>\n",
       "      <td>13.628275</td>\n",
       "    </tr>\n",
       "    <tr>\n",
       "      <th>LoFtool</th>\n",
       "      <td>LoFtool</td>\n",
       "      <td>6.462846</td>\n",
       "    </tr>\n",
       "    <tr>\n",
       "      <th>CADD_PHRED</th>\n",
       "      <td>CADD_PHRED</td>\n",
       "      <td>1.675155</td>\n",
       "    </tr>\n",
       "    <tr>\n",
       "      <th>CADD_RAW</th>\n",
       "      <td>CADD_RAW</td>\n",
       "      <td>1.675155</td>\n",
       "    </tr>\n",
       "    <tr>\n",
       "      <th>MC</th>\n",
       "      <td>MC</td>\n",
       "      <td>1.297785</td>\n",
       "    </tr>\n",
       "    <tr>\n",
       "      <th>SYMBOL</th>\n",
       "      <td>SYMBOL</td>\n",
       "      <td>0.024544</td>\n",
       "    </tr>\n",
       "    <tr>\n",
       "      <th>BIOTYPE</th>\n",
       "      <td>BIOTYPE</td>\n",
       "      <td>0.024544</td>\n",
       "    </tr>\n",
       "    <tr>\n",
       "      <th>STRAND</th>\n",
       "      <td>STRAND</td>\n",
       "      <td>0.021476</td>\n",
       "    </tr>\n",
       "    <tr>\n",
       "      <th>Feature_type</th>\n",
       "      <td>Feature_type</td>\n",
       "      <td>0.021476</td>\n",
       "    </tr>\n",
       "    <tr>\n",
       "      <th>Feature</th>\n",
       "      <td>Feature</td>\n",
       "      <td>0.021476</td>\n",
       "    </tr>\n",
       "    <tr>\n",
       "      <th>CLNDN</th>\n",
       "      <td>CLNDN</td>\n",
       "      <td>0.000000</td>\n",
       "    </tr>\n",
       "    <tr>\n",
       "      <th>REF</th>\n",
       "      <td>REF</td>\n",
       "      <td>0.000000</td>\n",
       "    </tr>\n",
       "    <tr>\n",
       "      <th>ALT</th>\n",
       "      <td>ALT</td>\n",
       "      <td>0.000000</td>\n",
       "    </tr>\n",
       "    <tr>\n",
       "      <th>AF_ESP</th>\n",
       "      <td>AF_ESP</td>\n",
       "      <td>0.000000</td>\n",
       "    </tr>\n",
       "    <tr>\n",
       "      <th>AF_EXAC</th>\n",
       "      <td>AF_EXAC</td>\n",
       "      <td>0.000000</td>\n",
       "    </tr>\n",
       "    <tr>\n",
       "      <th>AF_TGP</th>\n",
       "      <td>AF_TGP</td>\n",
       "      <td>0.000000</td>\n",
       "    </tr>\n",
       "    <tr>\n",
       "      <th>CLNDISDB</th>\n",
       "      <td>CLNDISDB</td>\n",
       "      <td>0.000000</td>\n",
       "    </tr>\n",
       "    <tr>\n",
       "      <th>CLNHGVS</th>\n",
       "      <td>CLNHGVS</td>\n",
       "      <td>0.000000</td>\n",
       "    </tr>\n",
       "    <tr>\n",
       "      <th>POS</th>\n",
       "      <td>POS</td>\n",
       "      <td>0.000000</td>\n",
       "    </tr>\n",
       "    <tr>\n",
       "      <th>CLNVC</th>\n",
       "      <td>CLNVC</td>\n",
       "      <td>0.000000</td>\n",
       "    </tr>\n",
       "    <tr>\n",
       "      <th>ORIGIN</th>\n",
       "      <td>ORIGIN</td>\n",
       "      <td>0.000000</td>\n",
       "    </tr>\n",
       "    <tr>\n",
       "      <th>CLASS</th>\n",
       "      <td>CLASS</td>\n",
       "      <td>0.000000</td>\n",
       "    </tr>\n",
       "    <tr>\n",
       "      <th>Allele</th>\n",
       "      <td>Allele</td>\n",
       "      <td>0.000000</td>\n",
       "    </tr>\n",
       "    <tr>\n",
       "      <th>Consequence</th>\n",
       "      <td>Consequence</td>\n",
       "      <td>0.000000</td>\n",
       "    </tr>\n",
       "    <tr>\n",
       "      <th>IMPACT</th>\n",
       "      <td>IMPACT</td>\n",
       "      <td>0.000000</td>\n",
       "    </tr>\n",
       "    <tr>\n",
       "      <th>CHROM</th>\n",
       "      <td>CHROM</td>\n",
       "      <td>0.000000</td>\n",
       "    </tr>\n",
       "  </tbody>\n",
       "</table>\n",
       "</div>"
      ],
      "text/plain": [
       "                           column_name  percent_missing\n",
       "MOTIF_SCORE_CHANGE  MOTIF_SCORE_CHANGE        99.996932\n",
       "HIGH_INF_POS              HIGH_INF_POS        99.996932\n",
       "MOTIF_POS                    MOTIF_POS        99.996932\n",
       "MOTIF_NAME                  MOTIF_NAME        99.996932\n",
       "DISTANCE                      DISTANCE        99.834325\n",
       "SSR                                SSR        99.800577\n",
       "CLNSIGINCL                  CLNSIGINCL        99.743818\n",
       "CLNDISDBINCL              CLNDISDBINCL        99.743818\n",
       "CLNDNINCL                    CLNDNINCL        99.743818\n",
       "INTRON                          INTRON        86.495981\n",
       "PolyPhen                      PolyPhen        61.962324\n",
       "SIFT                              SIFT        61.900963\n",
       "BLOSUM62                      BLOSUM62        60.739707\n",
       "CLNVI                            CLNVI        57.570412\n",
       "BAM_EDIT                      BAM_EDIT        50.958765\n",
       "Codons                          Codons        15.346383\n",
       "Amino_acids                Amino_acids        15.346383\n",
       "Protein_position      Protein_position        15.271216\n",
       "CDS_position              CDS_position        15.271216\n",
       "EXON                              EXON        13.642081\n",
       "cDNA_position            cDNA_position        13.628275\n",
       "LoFtool                        LoFtool         6.462846\n",
       "CADD_PHRED                  CADD_PHRED         1.675155\n",
       "CADD_RAW                      CADD_RAW         1.675155\n",
       "MC                                  MC         1.297785\n",
       "SYMBOL                          SYMBOL         0.024544\n",
       "BIOTYPE                        BIOTYPE         0.024544\n",
       "STRAND                          STRAND         0.021476\n",
       "Feature_type              Feature_type         0.021476\n",
       "Feature                        Feature         0.021476\n",
       "CLNDN                            CLNDN         0.000000\n",
       "REF                                REF         0.000000\n",
       "ALT                                ALT         0.000000\n",
       "AF_ESP                          AF_ESP         0.000000\n",
       "AF_EXAC                        AF_EXAC         0.000000\n",
       "AF_TGP                          AF_TGP         0.000000\n",
       "CLNDISDB                      CLNDISDB         0.000000\n",
       "CLNHGVS                        CLNHGVS         0.000000\n",
       "POS                                POS         0.000000\n",
       "CLNVC                            CLNVC         0.000000\n",
       "ORIGIN                          ORIGIN         0.000000\n",
       "CLASS                            CLASS         0.000000\n",
       "Allele                          Allele         0.000000\n",
       "Consequence                Consequence         0.000000\n",
       "IMPACT                          IMPACT         0.000000\n",
       "CHROM                            CHROM         0.000000"
      ]
     },
     "execution_count": 7,
     "metadata": {},
     "output_type": "execute_result"
    }
   ],
   "source": [
    "#Finding columns with more than 50% of Null values\n",
    "percent_missing = genetics_df.isnull().sum() * 100 / len(genetics_df)\n",
    "missing_value_df = pd.DataFrame({'column_name': genetics_df.columns,\n",
    "                                 'percent_missing': percent_missing})\n",
    "missing_value_df.sort_values('percent_missing', inplace=True, ascending = False)\n",
    "missing_value_df"
   ]
  },
  {
   "cell_type": "code",
   "execution_count": 8,
   "metadata": {},
   "outputs": [],
   "source": [
    "#Dropping columns with more than 50% of Null values\n",
    "drop_columns = list(missing_value_df[missing_value_df['percent_missing'] >= 20].index)\n",
    "genetics_df.drop(drop_columns,axis = 1, inplace=True)"
   ]
  },
  {
   "cell_type": "code",
   "execution_count": 9,
   "metadata": {},
   "outputs": [
    {
     "name": "stdout",
     "output_type": "stream",
     "text": [
      "<class 'pandas.core.frame.DataFrame'>\n",
      "RangeIndex: 65188 entries, 0 to 65187\n",
      "Data columns (total 31 columns):\n",
      " #   Column            Non-Null Count  Dtype  \n",
      "---  ------            --------------  -----  \n",
      " 0   CHROM             65188 non-null  object \n",
      " 1   POS               65188 non-null  int64  \n",
      " 2   REF               65188 non-null  object \n",
      " 3   ALT               65188 non-null  object \n",
      " 4   AF_ESP            65188 non-null  float64\n",
      " 5   AF_EXAC           65188 non-null  float64\n",
      " 6   AF_TGP            65188 non-null  float64\n",
      " 7   CLNDISDB          65188 non-null  object \n",
      " 8   CLNDN             65188 non-null  object \n",
      " 9   CLNHGVS           65188 non-null  object \n",
      " 10  CLNVC             65188 non-null  object \n",
      " 11  MC                64342 non-null  object \n",
      " 12  ORIGIN            65188 non-null  int64  \n",
      " 13  CLASS             65188 non-null  int64  \n",
      " 14  Allele            65188 non-null  object \n",
      " 15  Consequence       65188 non-null  object \n",
      " 16  IMPACT            65188 non-null  object \n",
      " 17  SYMBOL            65172 non-null  object \n",
      " 18  Feature_type      65174 non-null  object \n",
      " 19  Feature           65174 non-null  object \n",
      " 20  BIOTYPE           65172 non-null  object \n",
      " 21  EXON              56295 non-null  object \n",
      " 22  cDNA_position     56304 non-null  object \n",
      " 23  CDS_position      55233 non-null  object \n",
      " 24  Protein_position  55233 non-null  object \n",
      " 25  Amino_acids       55184 non-null  object \n",
      " 26  Codons            55184 non-null  object \n",
      " 27  STRAND            65174 non-null  float64\n",
      " 28  LoFtool           60975 non-null  float64\n",
      " 29  CADD_PHRED        64096 non-null  float64\n",
      " 30  CADD_RAW          64096 non-null  float64\n",
      "dtypes: float64(7), int64(3), object(21)\n",
      "memory usage: 15.4+ MB\n"
     ]
    }
   ],
   "source": [
    "genetics_df.info()"
   ]
  },
  {
   "cell_type": "code",
   "execution_count": 62,
   "metadata": {},
   "outputs": [
    {
     "data": {
      "image/png": "[encoded data removed]",
      "text/plain": [
       "<Figure size 432x288 with 1 Axes>"
      ]
     },
     "metadata": {
      "needs_background": "light"
     },
     "output_type": "display_data"
    }
   ],
   "source": [
    "sns.countplot(genetics_df['CLASS'])\n",
    "plt.show()"
   ]
  },
  {
   "cell_type": "markdown",
   "metadata": {},
   "source": [
    "CLASS is the target variable which represents whether or not a variant has conflicting classifications, where 0 represents consistent classifications and 1 represents conflicting classifications."
   ]
  },
  {
   "cell_type": "code",
   "execution_count": 10,
   "metadata": {},
   "outputs": [
    {
     "data": {
      "text/html": [
       "<style  type=\"text/css\" >\n",
       "#T_10bf1bc6_afa2_11eb_81a2_acde48001122row0_col0,#T_10bf1bc6_afa2_11eb_81a2_acde48001122row1_col1,#T_10bf1bc6_afa2_11eb_81a2_acde48001122row2_col2,#T_10bf1bc6_afa2_11eb_81a2_acde48001122row3_col3,#T_10bf1bc6_afa2_11eb_81a2_acde48001122row4_col4,#T_10bf1bc6_afa2_11eb_81a2_acde48001122row5_col5,#T_10bf1bc6_afa2_11eb_81a2_acde48001122row6_col6,#T_10bf1bc6_afa2_11eb_81a2_acde48001122row7_col7,#T_10bf1bc6_afa2_11eb_81a2_acde48001122row8_col8,#T_10bf1bc6_afa2_11eb_81a2_acde48001122row9_col9{\n",
       "            background-color:  #b40426;\n",
       "            color:  #f1f1f1;\n",
       "        }#T_10bf1bc6_afa2_11eb_81a2_acde48001122row0_col1,#T_10bf1bc6_afa2_11eb_81a2_acde48001122row0_col3,#T_10bf1bc6_afa2_11eb_81a2_acde48001122row9_col6{\n",
       "            background-color:  #688aef;\n",
       "            color:  #000000;\n",
       "        }#T_10bf1bc6_afa2_11eb_81a2_acde48001122row0_col2{\n",
       "            background-color:  #6788ee;\n",
       "            color:  #000000;\n",
       "        }#T_10bf1bc6_afa2_11eb_81a2_acde48001122row0_col4{\n",
       "            background-color:  #465ecf;\n",
       "            color:  #f1f1f1;\n",
       "        }#T_10bf1bc6_afa2_11eb_81a2_acde48001122row0_col5,#T_10bf1bc6_afa2_11eb_81a2_acde48001122row1_col6,#T_10bf1bc6_afa2_11eb_81a2_acde48001122row2_col6,#T_10bf1bc6_afa2_11eb_81a2_acde48001122row3_col6{\n",
       "            background-color:  #6282ea;\n",
       "            color:  #000000;\n",
       "        }#T_10bf1bc6_afa2_11eb_81a2_acde48001122row0_col6,#T_10bf1bc6_afa2_11eb_81a2_acde48001122row5_col1,#T_10bf1bc6_afa2_11eb_81a2_acde48001122row5_col3,#T_10bf1bc6_afa2_11eb_81a2_acde48001122row5_col4{\n",
       "            background-color:  #445acc;\n",
       "            color:  #f1f1f1;\n",
       "        }#T_10bf1bc6_afa2_11eb_81a2_acde48001122row0_col7{\n",
       "            background-color:  #b3cdfb;\n",
       "            color:  #000000;\n",
       "        }#T_10bf1bc6_afa2_11eb_81a2_acde48001122row0_col8,#T_10bf1bc6_afa2_11eb_81a2_acde48001122row5_col7,#T_10bf1bc6_afa2_11eb_81a2_acde48001122row6_col9{\n",
       "            background-color:  #6687ed;\n",
       "            color:  #000000;\n",
       "        }#T_10bf1bc6_afa2_11eb_81a2_acde48001122row0_col9,#T_10bf1bc6_afa2_11eb_81a2_acde48001122row4_col0,#T_10bf1bc6_afa2_11eb_81a2_acde48001122row4_col2,#T_10bf1bc6_afa2_11eb_81a2_acde48001122row6_col2{\n",
       "            background-color:  #6180e9;\n",
       "            color:  #000000;\n",
       "        }#T_10bf1bc6_afa2_11eb_81a2_acde48001122row1_col0,#T_10bf1bc6_afa2_11eb_81a2_acde48001122row2_col0,#T_10bf1bc6_afa2_11eb_81a2_acde48001122row4_col7,#T_10bf1bc6_afa2_11eb_81a2_acde48001122row7_col5{\n",
       "            background-color:  #5e7de7;\n",
       "            color:  #000000;\n",
       "        }#T_10bf1bc6_afa2_11eb_81a2_acde48001122row1_col2,#T_10bf1bc6_afa2_11eb_81a2_acde48001122row2_col1{\n",
       "            background-color:  #de614d;\n",
       "            color:  #000000;\n",
       "        }#T_10bf1bc6_afa2_11eb_81a2_acde48001122row1_col3,#T_10bf1bc6_afa2_11eb_81a2_acde48001122row2_col3,#T_10bf1bc6_afa2_11eb_81a2_acde48001122row3_col1{\n",
       "            background-color:  #e7745b;\n",
       "            color:  #000000;\n",
       "        }#T_10bf1bc6_afa2_11eb_81a2_acde48001122row1_col4,#T_10bf1bc6_afa2_11eb_81a2_acde48001122row2_col4,#T_10bf1bc6_afa2_11eb_81a2_acde48001122row3_col4,#T_10bf1bc6_afa2_11eb_81a2_acde48001122row9_col1,#T_10bf1bc6_afa2_11eb_81a2_acde48001122row9_col2,#T_10bf1bc6_afa2_11eb_81a2_acde48001122row9_col3{\n",
       "            background-color:  #3e51c5;\n",
       "            color:  #f1f1f1;\n",
       "        }#T_10bf1bc6_afa2_11eb_81a2_acde48001122row1_col5,#T_10bf1bc6_afa2_11eb_81a2_acde48001122row1_col8,#T_10bf1bc6_afa2_11eb_81a2_acde48001122row1_col9,#T_10bf1bc6_afa2_11eb_81a2_acde48001122row3_col5,#T_10bf1bc6_afa2_11eb_81a2_acde48001122row3_col8,#T_10bf1bc6_afa2_11eb_81a2_acde48001122row3_col9,#T_10bf1bc6_afa2_11eb_81a2_acde48001122row6_col0,#T_10bf1bc6_afa2_11eb_81a2_acde48001122row6_col7,#T_10bf1bc6_afa2_11eb_81a2_acde48001122row7_col4,#T_10bf1bc6_afa2_11eb_81a2_acde48001122row7_col6,#T_10bf1bc6_afa2_11eb_81a2_acde48001122row8_col1,#T_10bf1bc6_afa2_11eb_81a2_acde48001122row8_col2,#T_10bf1bc6_afa2_11eb_81a2_acde48001122row8_col3{\n",
       "            background-color:  #3b4cc0;\n",
       "            color:  #f1f1f1;\n",
       "        }#T_10bf1bc6_afa2_11eb_81a2_acde48001122row1_col7,#T_10bf1bc6_afa2_11eb_81a2_acde48001122row2_col7,#T_10bf1bc6_afa2_11eb_81a2_acde48001122row3_col7{\n",
       "            background-color:  #6e90f2;\n",
       "            color:  #000000;\n",
       "        }#T_10bf1bc6_afa2_11eb_81a2_acde48001122row2_col5,#T_10bf1bc6_afa2_11eb_81a2_acde48001122row2_col8,#T_10bf1bc6_afa2_11eb_81a2_acde48001122row2_col9{\n",
       "            background-color:  #3d50c3;\n",
       "            color:  #f1f1f1;\n",
       "        }#T_10bf1bc6_afa2_11eb_81a2_acde48001122row3_col0,#T_10bf1bc6_afa2_11eb_81a2_acde48001122row5_col6,#T_10bf1bc6_afa2_11eb_81a2_acde48001122row5_col8,#T_10bf1bc6_afa2_11eb_81a2_acde48001122row7_col8{\n",
       "            background-color:  #5d7ce6;\n",
       "            color:  #000000;\n",
       "        }#T_10bf1bc6_afa2_11eb_81a2_acde48001122row3_col2{\n",
       "            background-color:  #e8765c;\n",
       "            color:  #000000;\n",
       "        }#T_10bf1bc6_afa2_11eb_81a2_acde48001122row4_col1,#T_10bf1bc6_afa2_11eb_81a2_acde48001122row4_col3,#T_10bf1bc6_afa2_11eb_81a2_acde48001122row4_col6,#T_10bf1bc6_afa2_11eb_81a2_acde48001122row6_col1,#T_10bf1bc6_afa2_11eb_81a2_acde48001122row6_col3{\n",
       "            background-color:  #6384eb;\n",
       "            color:  #000000;\n",
       "        }#T_10bf1bc6_afa2_11eb_81a2_acde48001122row4_col5,#T_10bf1bc6_afa2_11eb_81a2_acde48001122row5_col0{\n",
       "            background-color:  #5f7fe8;\n",
       "            color:  #000000;\n",
       "        }#T_10bf1bc6_afa2_11eb_81a2_acde48001122row4_col8{\n",
       "            background-color:  #799cf8;\n",
       "            color:  #000000;\n",
       "        }#T_10bf1bc6_afa2_11eb_81a2_acde48001122row4_col9{\n",
       "            background-color:  #7699f6;\n",
       "            color:  #000000;\n",
       "        }#T_10bf1bc6_afa2_11eb_81a2_acde48001122row5_col2{\n",
       "            background-color:  #4358cb;\n",
       "            color:  #f1f1f1;\n",
       "        }#T_10bf1bc6_afa2_11eb_81a2_acde48001122row5_col9{\n",
       "            background-color:  #5470de;\n",
       "            color:  #000000;\n",
       "        }#T_10bf1bc6_afa2_11eb_81a2_acde48001122row6_col4{\n",
       "            background-color:  #4055c8;\n",
       "            color:  #f1f1f1;\n",
       "        }#T_10bf1bc6_afa2_11eb_81a2_acde48001122row6_col5,#T_10bf1bc6_afa2_11eb_81a2_acde48001122row8_col4{\n",
       "            background-color:  #5572df;\n",
       "            color:  #000000;\n",
       "        }#T_10bf1bc6_afa2_11eb_81a2_acde48001122row6_col8{\n",
       "            background-color:  #6b8df0;\n",
       "            color:  #000000;\n",
       "        }#T_10bf1bc6_afa2_11eb_81a2_acde48001122row7_col0{\n",
       "            background-color:  #abc8fd;\n",
       "            color:  #000000;\n",
       "        }#T_10bf1bc6_afa2_11eb_81a2_acde48001122row7_col1{\n",
       "            background-color:  #6f92f3;\n",
       "            color:  #000000;\n",
       "        }#T_10bf1bc6_afa2_11eb_81a2_acde48001122row7_col2{\n",
       "            background-color:  #6c8ff1;\n",
       "            color:  #000000;\n",
       "        }#T_10bf1bc6_afa2_11eb_81a2_acde48001122row7_col3{\n",
       "            background-color:  #7093f3;\n",
       "            color:  #000000;\n",
       "        }#T_10bf1bc6_afa2_11eb_81a2_acde48001122row7_col9{\n",
       "            background-color:  #5875e1;\n",
       "            color:  #000000;\n",
       "        }#T_10bf1bc6_afa2_11eb_81a2_acde48001122row8_col0,#T_10bf1bc6_afa2_11eb_81a2_acde48001122row8_col7,#T_10bf1bc6_afa2_11eb_81a2_acde48001122row9_col7{\n",
       "            background-color:  #5a78e4;\n",
       "            color:  #000000;\n",
       "        }#T_10bf1bc6_afa2_11eb_81a2_acde48001122row8_col5{\n",
       "            background-color:  #536edd;\n",
       "            color:  #000000;\n",
       "        }#T_10bf1bc6_afa2_11eb_81a2_acde48001122row8_col6{\n",
       "            background-color:  #6a8bef;\n",
       "            color:  #000000;\n",
       "        }#T_10bf1bc6_afa2_11eb_81a2_acde48001122row8_col9{\n",
       "            background-color:  #c32e31;\n",
       "            color:  #f1f1f1;\n",
       "        }#T_10bf1bc6_afa2_11eb_81a2_acde48001122row9_col0{\n",
       "            background-color:  #5977e3;\n",
       "            color:  #000000;\n",
       "        }#T_10bf1bc6_afa2_11eb_81a2_acde48001122row9_col4{\n",
       "            background-color:  #5673e0;\n",
       "            color:  #000000;\n",
       "        }#T_10bf1bc6_afa2_11eb_81a2_acde48001122row9_col5{\n",
       "            background-color:  #4f69d9;\n",
       "            color:  #000000;\n",
       "        }#T_10bf1bc6_afa2_11eb_81a2_acde48001122row9_col8{\n",
       "            background-color:  #c12b30;\n",
       "            color:  #f1f1f1;\n",
       "        }</style><table id=\"T_10bf1bc6_afa2_11eb_81a2_acde48001122\" ><thead>    <tr>        <th class=\"blank level0\" ></th>        <th class=\"col_heading level0 col0\" >POS</th>        <th class=\"col_heading level0 col1\" >AF_ESP</th>        <th class=\"col_heading level0 col2\" >AF_EXAC</th>        <th class=\"col_heading level0 col3\" >AF_TGP</th>        <th class=\"col_heading level0 col4\" >ORIGIN</th>        <th class=\"col_heading level0 col5\" >CLASS</th>        <th class=\"col_heading level0 col6\" >STRAND</th>        <th class=\"col_heading level0 col7\" >LoFtool</th>        <th class=\"col_heading level0 col8\" >CADD_PHRED</th>        <th class=\"col_heading level0 col9\" >CADD_RAW</th>    </tr></thead><tbody>\n",
       "                <tr>\n",
       "                        <th id=\"T_10bf1bc6_afa2_11eb_81a2_acde48001122level0_row0\" class=\"row_heading level0 row0\" >POS</th>\n",
       "                        <td id=\"T_10bf1bc6_afa2_11eb_81a2_acde48001122row0_col0\" class=\"data row0 col0\" >1.000000</td>\n",
       "                        <td id=\"T_10bf1bc6_afa2_11eb_81a2_acde48001122row0_col1\" class=\"data row0 col1\" >0.007003</td>\n",
       "                        <td id=\"T_10bf1bc6_afa2_11eb_81a2_acde48001122row0_col2\" class=\"data row0 col2\" >0.007721</td>\n",
       "                        <td id=\"T_10bf1bc6_afa2_11eb_81a2_acde48001122row0_col3\" class=\"data row0 col3\" >0.004225</td>\n",
       "                        <td id=\"T_10bf1bc6_afa2_11eb_81a2_acde48001122row0_col4\" class=\"data row0 col4\" >0.013645</td>\n",
       "                        <td id=\"T_10bf1bc6_afa2_11eb_81a2_acde48001122row0_col5\" class=\"data row0 col5\" >0.012061</td>\n",
       "                        <td id=\"T_10bf1bc6_afa2_11eb_81a2_acde48001122row0_col6\" class=\"data row0 col6\" >-0.122896</td>\n",
       "                        <td id=\"T_10bf1bc6_afa2_11eb_81a2_acde48001122row0_col7\" class=\"data row0 col7\" >0.257226</td>\n",
       "                        <td id=\"T_10bf1bc6_afa2_11eb_81a2_acde48001122row0_col8\" class=\"data row0 col8\" >-0.005409</td>\n",
       "                        <td id=\"T_10bf1bc6_afa2_11eb_81a2_acde48001122row0_col9\" class=\"data row0 col9\" >-0.009753</td>\n",
       "            </tr>\n",
       "            <tr>\n",
       "                        <th id=\"T_10bf1bc6_afa2_11eb_81a2_acde48001122level0_row1\" class=\"row_heading level0 row1\" >AF_ESP</th>\n",
       "                        <td id=\"T_10bf1bc6_afa2_11eb_81a2_acde48001122row1_col0\" class=\"data row1 col0\" >0.007003</td>\n",
       "                        <td id=\"T_10bf1bc6_afa2_11eb_81a2_acde48001122row1_col1\" class=\"data row1 col1\" >1.000000</td>\n",
       "                        <td id=\"T_10bf1bc6_afa2_11eb_81a2_acde48001122row1_col2\" class=\"data row1 col2\" >0.851870</td>\n",
       "                        <td id=\"T_10bf1bc6_afa2_11eb_81a2_acde48001122row1_col3\" class=\"data row1 col3\" >0.807741</td>\n",
       "                        <td id=\"T_10bf1bc6_afa2_11eb_81a2_acde48001122row1_col4\" class=\"data row1 col4\" >-0.013563</td>\n",
       "                        <td id=\"T_10bf1bc6_afa2_11eb_81a2_acde48001122row1_col5\" class=\"data row1 col5\" >-0.126538</td>\n",
       "                        <td id=\"T_10bf1bc6_afa2_11eb_81a2_acde48001122row1_col6\" class=\"data row1 col6\" >-0.011551</td>\n",
       "                        <td id=\"T_10bf1bc6_afa2_11eb_81a2_acde48001122row1_col7\" class=\"data row1 col7\" >0.027343</td>\n",
       "                        <td id=\"T_10bf1bc6_afa2_11eb_81a2_acde48001122row1_col8\" class=\"data row1 col8\" >-0.164169</td>\n",
       "                        <td id=\"T_10bf1bc6_afa2_11eb_81a2_acde48001122row1_col9\" class=\"data row1 col9\" >-0.148118</td>\n",
       "            </tr>\n",
       "            <tr>\n",
       "                        <th id=\"T_10bf1bc6_afa2_11eb_81a2_acde48001122level0_row2\" class=\"row_heading level0 row2\" >AF_EXAC</th>\n",
       "                        <td id=\"T_10bf1bc6_afa2_11eb_81a2_acde48001122row2_col0\" class=\"data row2 col0\" >0.007721</td>\n",
       "                        <td id=\"T_10bf1bc6_afa2_11eb_81a2_acde48001122row2_col1\" class=\"data row2 col1\" >0.851870</td>\n",
       "                        <td id=\"T_10bf1bc6_afa2_11eb_81a2_acde48001122row2_col2\" class=\"data row2 col2\" >1.000000</td>\n",
       "                        <td id=\"T_10bf1bc6_afa2_11eb_81a2_acde48001122row2_col3\" class=\"data row2 col3\" >0.805634</td>\n",
       "                        <td id=\"T_10bf1bc6_afa2_11eb_81a2_acde48001122row2_col4\" class=\"data row2 col4\" >-0.013432</td>\n",
       "                        <td id=\"T_10bf1bc6_afa2_11eb_81a2_acde48001122row2_col5\" class=\"data row2 col5\" >-0.121213</td>\n",
       "                        <td id=\"T_10bf1bc6_afa2_11eb_81a2_acde48001122row2_col6\" class=\"data row2 col6\" >-0.013358</td>\n",
       "                        <td id=\"T_10bf1bc6_afa2_11eb_81a2_acde48001122row2_col7\" class=\"data row2 col7\" >0.027831</td>\n",
       "                        <td id=\"T_10bf1bc6_afa2_11eb_81a2_acde48001122row2_col8\" class=\"data row2 col8\" >-0.154891</td>\n",
       "                        <td id=\"T_10bf1bc6_afa2_11eb_81a2_acde48001122row2_col9\" class=\"data row2 col9\" >-0.140803</td>\n",
       "            </tr>\n",
       "            <tr>\n",
       "                        <th id=\"T_10bf1bc6_afa2_11eb_81a2_acde48001122level0_row3\" class=\"row_heading level0 row3\" >AF_TGP</th>\n",
       "                        <td id=\"T_10bf1bc6_afa2_11eb_81a2_acde48001122row3_col0\" class=\"data row3 col0\" >0.004225</td>\n",
       "                        <td id=\"T_10bf1bc6_afa2_11eb_81a2_acde48001122row3_col1\" class=\"data row3 col1\" >0.807741</td>\n",
       "                        <td id=\"T_10bf1bc6_afa2_11eb_81a2_acde48001122row3_col2\" class=\"data row3 col2\" >0.805634</td>\n",
       "                        <td id=\"T_10bf1bc6_afa2_11eb_81a2_acde48001122row3_col3\" class=\"data row3 col3\" >1.000000</td>\n",
       "                        <td id=\"T_10bf1bc6_afa2_11eb_81a2_acde48001122row3_col4\" class=\"data row3 col4\" >-0.014450</td>\n",
       "                        <td id=\"T_10bf1bc6_afa2_11eb_81a2_acde48001122row3_col5\" class=\"data row3 col5\" >-0.130077</td>\n",
       "                        <td id=\"T_10bf1bc6_afa2_11eb_81a2_acde48001122row3_col6\" class=\"data row3 col6\" >-0.014002</td>\n",
       "                        <td id=\"T_10bf1bc6_afa2_11eb_81a2_acde48001122row3_col7\" class=\"data row3 col7\" >0.029447</td>\n",
       "                        <td id=\"T_10bf1bc6_afa2_11eb_81a2_acde48001122row3_col8\" class=\"data row3 col8\" >-0.167057</td>\n",
       "                        <td id=\"T_10bf1bc6_afa2_11eb_81a2_acde48001122row3_col9\" class=\"data row3 col9\" >-0.150989</td>\n",
       "            </tr>\n",
       "            <tr>\n",
       "                        <th id=\"T_10bf1bc6_afa2_11eb_81a2_acde48001122level0_row4\" class=\"row_heading level0 row4\" >ORIGIN</th>\n",
       "                        <td id=\"T_10bf1bc6_afa2_11eb_81a2_acde48001122row4_col0\" class=\"data row4 col0\" >0.013645</td>\n",
       "                        <td id=\"T_10bf1bc6_afa2_11eb_81a2_acde48001122row4_col1\" class=\"data row4 col1\" >-0.013563</td>\n",
       "                        <td id=\"T_10bf1bc6_afa2_11eb_81a2_acde48001122row4_col2\" class=\"data row4 col2\" >-0.013432</td>\n",
       "                        <td id=\"T_10bf1bc6_afa2_11eb_81a2_acde48001122row4_col3\" class=\"data row4 col3\" >-0.014450</td>\n",
       "                        <td id=\"T_10bf1bc6_afa2_11eb_81a2_acde48001122row4_col4\" class=\"data row4 col4\" >1.000000</td>\n",
       "                        <td id=\"T_10bf1bc6_afa2_11eb_81a2_acde48001122row4_col5\" class=\"data row4 col5\" >0.004357</td>\n",
       "                        <td id=\"T_10bf1bc6_afa2_11eb_81a2_acde48001122row4_col6\" class=\"data row4 col6\" >-0.007564</td>\n",
       "                        <td id=\"T_10bf1bc6_afa2_11eb_81a2_acde48001122row4_col7\" class=\"data row4 col7\" >-0.028363</td>\n",
       "                        <td id=\"T_10bf1bc6_afa2_11eb_81a2_acde48001122row4_col8\" class=\"data row4 col8\" >0.060290</td>\n",
       "                        <td id=\"T_10bf1bc6_afa2_11eb_81a2_acde48001122row4_col9\" class=\"data row4 col9\" >0.064609</td>\n",
       "            </tr>\n",
       "            <tr>\n",
       "                        <th id=\"T_10bf1bc6_afa2_11eb_81a2_acde48001122level0_row5\" class=\"row_heading level0 row5\" >CLASS</th>\n",
       "                        <td id=\"T_10bf1bc6_afa2_11eb_81a2_acde48001122row5_col0\" class=\"data row5 col0\" >0.012061</td>\n",
       "                        <td id=\"T_10bf1bc6_afa2_11eb_81a2_acde48001122row5_col1\" class=\"data row5 col1\" >-0.126538</td>\n",
       "                        <td id=\"T_10bf1bc6_afa2_11eb_81a2_acde48001122row5_col2\" class=\"data row5 col2\" >-0.121213</td>\n",
       "                        <td id=\"T_10bf1bc6_afa2_11eb_81a2_acde48001122row5_col3\" class=\"data row5 col3\" >-0.130077</td>\n",
       "                        <td id=\"T_10bf1bc6_afa2_11eb_81a2_acde48001122row5_col4\" class=\"data row5 col4\" >0.004357</td>\n",
       "                        <td id=\"T_10bf1bc6_afa2_11eb_81a2_acde48001122row5_col5\" class=\"data row5 col5\" >1.000000</td>\n",
       "                        <td id=\"T_10bf1bc6_afa2_11eb_81a2_acde48001122row5_col6\" class=\"data row5 col6\" >-0.031369</td>\n",
       "                        <td id=\"T_10bf1bc6_afa2_11eb_81a2_acde48001122row5_col7\" class=\"data row5 col7\" >0.000045</td>\n",
       "                        <td id=\"T_10bf1bc6_afa2_11eb_81a2_acde48001122row5_col8\" class=\"data row5 col8\" >-0.037713</td>\n",
       "                        <td id=\"T_10bf1bc6_afa2_11eb_81a2_acde48001122row5_col9\" class=\"data row5 col9\" >-0.053485</td>\n",
       "            </tr>\n",
       "            <tr>\n",
       "                        <th id=\"T_10bf1bc6_afa2_11eb_81a2_acde48001122level0_row6\" class=\"row_heading level0 row6\" >STRAND</th>\n",
       "                        <td id=\"T_10bf1bc6_afa2_11eb_81a2_acde48001122row6_col0\" class=\"data row6 col0\" >-0.122896</td>\n",
       "                        <td id=\"T_10bf1bc6_afa2_11eb_81a2_acde48001122row6_col1\" class=\"data row6 col1\" >-0.011551</td>\n",
       "                        <td id=\"T_10bf1bc6_afa2_11eb_81a2_acde48001122row6_col2\" class=\"data row6 col2\" >-0.013358</td>\n",
       "                        <td id=\"T_10bf1bc6_afa2_11eb_81a2_acde48001122row6_col3\" class=\"data row6 col3\" >-0.014002</td>\n",
       "                        <td id=\"T_10bf1bc6_afa2_11eb_81a2_acde48001122row6_col4\" class=\"data row6 col4\" >-0.007564</td>\n",
       "                        <td id=\"T_10bf1bc6_afa2_11eb_81a2_acde48001122row6_col5\" class=\"data row6 col5\" >-0.031369</td>\n",
       "                        <td id=\"T_10bf1bc6_afa2_11eb_81a2_acde48001122row6_col6\" class=\"data row6 col6\" >1.000000</td>\n",
       "                        <td id=\"T_10bf1bc6_afa2_11eb_81a2_acde48001122row6_col7\" class=\"data row6 col7\" >-0.160170</td>\n",
       "                        <td id=\"T_10bf1bc6_afa2_11eb_81a2_acde48001122row6_col8\" class=\"data row6 col8\" >0.014463</td>\n",
       "                        <td id=\"T_10bf1bc6_afa2_11eb_81a2_acde48001122row6_col9\" class=\"data row6 col9\" >0.009622</td>\n",
       "            </tr>\n",
       "            <tr>\n",
       "                        <th id=\"T_10bf1bc6_afa2_11eb_81a2_acde48001122level0_row7\" class=\"row_heading level0 row7\" >LoFtool</th>\n",
       "                        <td id=\"T_10bf1bc6_afa2_11eb_81a2_acde48001122row7_col0\" class=\"data row7 col0\" >0.257226</td>\n",
       "                        <td id=\"T_10bf1bc6_afa2_11eb_81a2_acde48001122row7_col1\" class=\"data row7 col1\" >0.027343</td>\n",
       "                        <td id=\"T_10bf1bc6_afa2_11eb_81a2_acde48001122row7_col2\" class=\"data row7 col2\" >0.027831</td>\n",
       "                        <td id=\"T_10bf1bc6_afa2_11eb_81a2_acde48001122row7_col3\" class=\"data row7 col3\" >0.029447</td>\n",
       "                        <td id=\"T_10bf1bc6_afa2_11eb_81a2_acde48001122row7_col4\" class=\"data row7 col4\" >-0.028363</td>\n",
       "                        <td id=\"T_10bf1bc6_afa2_11eb_81a2_acde48001122row7_col5\" class=\"data row7 col5\" >0.000045</td>\n",
       "                        <td id=\"T_10bf1bc6_afa2_11eb_81a2_acde48001122row7_col6\" class=\"data row7 col6\" >-0.160170</td>\n",
       "                        <td id=\"T_10bf1bc6_afa2_11eb_81a2_acde48001122row7_col7\" class=\"data row7 col7\" >1.000000</td>\n",
       "                        <td id=\"T_10bf1bc6_afa2_11eb_81a2_acde48001122row7_col8\" class=\"data row7 col8\" >-0.038808</td>\n",
       "                        <td id=\"T_10bf1bc6_afa2_11eb_81a2_acde48001122row7_col9\" class=\"data row7 col9\" >-0.039227</td>\n",
       "            </tr>\n",
       "            <tr>\n",
       "                        <th id=\"T_10bf1bc6_afa2_11eb_81a2_acde48001122level0_row8\" class=\"row_heading level0 row8\" >CADD_PHRED</th>\n",
       "                        <td id=\"T_10bf1bc6_afa2_11eb_81a2_acde48001122row8_col0\" class=\"data row8 col0\" >-0.005409</td>\n",
       "                        <td id=\"T_10bf1bc6_afa2_11eb_81a2_acde48001122row8_col1\" class=\"data row8 col1\" >-0.164169</td>\n",
       "                        <td id=\"T_10bf1bc6_afa2_11eb_81a2_acde48001122row8_col2\" class=\"data row8 col2\" >-0.154891</td>\n",
       "                        <td id=\"T_10bf1bc6_afa2_11eb_81a2_acde48001122row8_col3\" class=\"data row8 col3\" >-0.167057</td>\n",
       "                        <td id=\"T_10bf1bc6_afa2_11eb_81a2_acde48001122row8_col4\" class=\"data row8 col4\" >0.060290</td>\n",
       "                        <td id=\"T_10bf1bc6_afa2_11eb_81a2_acde48001122row8_col5\" class=\"data row8 col5\" >-0.037713</td>\n",
       "                        <td id=\"T_10bf1bc6_afa2_11eb_81a2_acde48001122row8_col6\" class=\"data row8 col6\" >0.014463</td>\n",
       "                        <td id=\"T_10bf1bc6_afa2_11eb_81a2_acde48001122row8_col7\" class=\"data row8 col7\" >-0.038808</td>\n",
       "                        <td id=\"T_10bf1bc6_afa2_11eb_81a2_acde48001122row8_col8\" class=\"data row8 col8\" >1.000000</td>\n",
       "                        <td id=\"T_10bf1bc6_afa2_11eb_81a2_acde48001122row8_col9\" class=\"data row8 col9\" >0.955003</td>\n",
       "            </tr>\n",
       "            <tr>\n",
       "                        <th id=\"T_10bf1bc6_afa2_11eb_81a2_acde48001122level0_row9\" class=\"row_heading level0 row9\" >CADD_RAW</th>\n",
       "                        <td id=\"T_10bf1bc6_afa2_11eb_81a2_acde48001122row9_col0\" class=\"data row9 col0\" >-0.009753</td>\n",
       "                        <td id=\"T_10bf1bc6_afa2_11eb_81a2_acde48001122row9_col1\" class=\"data row9 col1\" >-0.148118</td>\n",
       "                        <td id=\"T_10bf1bc6_afa2_11eb_81a2_acde48001122row9_col2\" class=\"data row9 col2\" >-0.140803</td>\n",
       "                        <td id=\"T_10bf1bc6_afa2_11eb_81a2_acde48001122row9_col3\" class=\"data row9 col3\" >-0.150989</td>\n",
       "                        <td id=\"T_10bf1bc6_afa2_11eb_81a2_acde48001122row9_col4\" class=\"data row9 col4\" >0.064609</td>\n",
       "                        <td id=\"T_10bf1bc6_afa2_11eb_81a2_acde48001122row9_col5\" class=\"data row9 col5\" >-0.053485</td>\n",
       "                        <td id=\"T_10bf1bc6_afa2_11eb_81a2_acde48001122row9_col6\" class=\"data row9 col6\" >0.009622</td>\n",
       "                        <td id=\"T_10bf1bc6_afa2_11eb_81a2_acde48001122row9_col7\" class=\"data row9 col7\" >-0.039227</td>\n",
       "                        <td id=\"T_10bf1bc6_afa2_11eb_81a2_acde48001122row9_col8\" class=\"data row9 col8\" >0.955003</td>\n",
       "                        <td id=\"T_10bf1bc6_afa2_11eb_81a2_acde48001122row9_col9\" class=\"data row9 col9\" >1.000000</td>\n",
       "            </tr>\n",
       "    </tbody></table>"
      ],
      "text/plain": [
       "<pandas.io.formats.style.Styler at 0x1264b4070>"
      ]
     },
     "execution_count": 10,
     "metadata": {},
     "output_type": "execute_result"
    }
   ],
   "source": [
    "#Find the correlation of numeric features\n",
    "corr = genetics_df.corr()\n",
    "corr.style.background_gradient(cmap='coolwarm')"
   ]
  },
  {
   "cell_type": "markdown",
   "metadata": {},
   "source": [
    "AF_ESP, AF_EXAC, AF_TGP, CADD_RAW, CADD_RAW are highly correlated with other features, so droping those redundant columns for a better model"
   ]
  },
  {
   "cell_type": "code",
   "execution_count": 11,
   "metadata": {},
   "outputs": [],
   "source": [
    "dependent_features = [ 'AF_EXAC','AF_TGP', 'CADD_RAW',  'CADD_PHRED']\n",
    "genetics_df.drop(dependent_features,axis = 1, inplace=True)"
   ]
  },
  {
   "cell_type": "markdown",
   "metadata": {},
   "source": [
    "#### Data Preprocessing"
   ]
  },
  {
   "cell_type": "code",
   "execution_count": 12,
   "metadata": {},
   "outputs": [
    {
     "data": {
      "text/plain": [
       "CHROM                   0\n",
       "POS                     0\n",
       "REF                     0\n",
       "ALT                     0\n",
       "AF_ESP                  0\n",
       "CLNDISDB                0\n",
       "CLNDN                   0\n",
       "CLNHGVS                 0\n",
       "CLNVC                   0\n",
       "MC                    846\n",
       "ORIGIN                  0\n",
       "CLASS                   0\n",
       "Allele                  0\n",
       "Consequence             0\n",
       "IMPACT                  0\n",
       "SYMBOL                 16\n",
       "Feature_type           14\n",
       "Feature                14\n",
       "BIOTYPE                16\n",
       "EXON                 8893\n",
       "cDNA_position        8884\n",
       "CDS_position         9955\n",
       "Protein_position     9955\n",
       "Amino_acids         10004\n",
       "Codons              10004\n",
       "STRAND                 14\n",
       "LoFtool              4213\n",
       "dtype: int64"
      ]
     },
     "execution_count": 12,
     "metadata": {},
     "output_type": "execute_result"
    }
   ],
   "source": [
    "genetics_df.isnull().sum()"
   ]
  },
  {
   "cell_type": "code",
   "execution_count": 13,
   "metadata": {},
   "outputs": [
    {
     "data": {
      "text/plain": [
       "SO:0001583|missense_variant                                                                     28457\n",
       "SO:0001819|synonymous_variant                                                                   16549\n",
       "SO:0001627|intron_variant                                                                        7534\n",
       "SO:0001583|missense_variant,SO:0001627|intron_variant                                            2803\n",
       "SO:0001589|frameshift_variant                                                                    1622\n",
       "                                                                                                ...  \n",
       "SO:0001575|splice_donor_variant,SO:0001623|5_prime_UTR_variant,SO:0001627|intron_variant            1\n",
       "SO:0001583|missense_variant,SO:0001587|nonsense,SO:0001627|intron_variant                           1\n",
       "SO:0001574|splice_acceptor_variant,SO:0001819|synonymous_variant                                    1\n",
       "SO:0001589|frameshift_variant,SO:0001623|5_prime_UTR_variant,SO:0001636|2KB_upstream_variant        1\n",
       "SO:0001589|frameshift_variant,SO:0001634|500B_downstream_variant                                    1\n",
       "Name: MC, Length: 90, dtype: int64"
      ]
     },
     "execution_count": 13,
     "metadata": {},
     "output_type": "execute_result"
    }
   ],
   "source": [
    "genetics_df.MC.value_counts()"
   ]
  },
  {
   "cell_type": "code",
   "execution_count": 14,
   "metadata": {},
   "outputs": [
    {
     "data": {
      "text/plain": [
       "16/16     1129\n",
       "11/27      807\n",
       "4/10       752\n",
       "3/3        581\n",
       "2/2        570\n",
       "          ... \n",
       "38/62        1\n",
       "23/78        1\n",
       "47/62        1\n",
       "22/64        1\n",
       "46/102       1\n",
       "Name: EXON, Length: 3264, dtype: int64"
      ]
     },
     "execution_count": 14,
     "metadata": {},
     "output_type": "execute_result"
    }
   ],
   "source": [
    "genetics_df.EXON.value_counts()"
   ]
  },
  {
   "cell_type": "code",
   "execution_count": 15,
   "metadata": {},
   "outputs": [
    {
     "data": {
      "text/plain": [
       "852      31\n",
       "878      30\n",
       "1201     29\n",
       "789      29\n",
       "729      29\n",
       "         ..\n",
       "5415      1\n",
       "96511     1\n",
       "72894     1\n",
       "16513     1\n",
       "7697      1\n",
       "Name: cDNA_position, Length: 13970, dtype: int64"
      ]
     },
     "execution_count": 15,
     "metadata": {},
     "output_type": "execute_result"
    }
   ],
   "source": [
    "\n",
    "genetics_df.cDNA_position.value_counts()"
   ]
  },
  {
   "cell_type": "code",
   "execution_count": 16,
   "metadata": {},
   "outputs": [
    {
     "data": {
      "text/plain": [
       "1          36\n",
       "696        35\n",
       "379        32\n",
       "465        32\n",
       "402        31\n",
       "           ..\n",
       "373-374     1\n",
       "83571       1\n",
       "680-681     1\n",
       "7849        1\n",
       "195-?       1\n",
       "Name: CDS_position, Length: 13663, dtype: int64"
      ]
     },
     "execution_count": 16,
     "metadata": {},
     "output_type": "execute_result"
    }
   ],
   "source": [
    "genetics_df.CDS_position.value_counts()"
   ]
  },
  {
   "cell_type": "code",
   "execution_count": 17,
   "metadata": {},
   "outputs": [
    {
     "data": {
      "text/plain": [
       "1          100\n",
       "27          80\n",
       "127         78\n",
       "69          75\n",
       "12          74\n",
       "          ... \n",
       "3023         1\n",
       "4204         1\n",
       "157-158      1\n",
       "2555         1\n",
       "3086         1\n",
       "Name: Protein_position, Length: 7339, dtype: int64"
      ]
     },
     "execution_count": 17,
     "metadata": {},
     "output_type": "execute_result"
    }
   ],
   "source": [
    "\n",
    "genetics_df.Protein_position.value_counts()"
   ]
  },
  {
   "cell_type": "code",
   "execution_count": 18,
   "metadata": {},
   "outputs": [
    {
     "data": {
      "text/plain": [
       "A        2005\n",
       "L        2003\n",
       "P        1858\n",
       "S        1710\n",
       "T        1677\n",
       "         ... \n",
       "NE/K*       1\n",
       "QQQ/-       1\n",
       "WG/CX       1\n",
       "H/E         1\n",
       "LP/P        1\n",
       "Name: Amino_acids, Length: 1262, dtype: int64"
      ]
     },
     "execution_count": 18,
     "metadata": {},
     "output_type": "execute_result"
    }
   ],
   "source": [
    "\n",
    "genetics_df.Amino_acids.value_counts()"
   ]
  },
  {
   "cell_type": "code",
   "execution_count": 19,
   "metadata": {},
   "outputs": [
    {
     "data": {
      "text/plain": [
       "cGg/cAg                915\n",
       "Cgg/Tgg                852\n",
       "cGc/cAc                769\n",
       "Cga/Tga                734\n",
       "Cgc/Tgc                730\n",
       "                      ... \n",
       "ctGGAGGAGGAGGAg/ctg      1\n",
       "aGAGga/aga               1\n",
       "tcTTtt/tctt              1\n",
       "cAA/cG                   1\n",
       "Atg/Atg                  1\n",
       "Name: Codons, Length: 2220, dtype: int64"
      ]
     },
     "execution_count": 19,
     "metadata": {},
     "output_type": "execute_result"
    }
   ],
   "source": [
    "genetics_df.Codons.value_counts()"
   ]
  },
  {
   "cell_type": "code",
   "execution_count": 20,
   "metadata": {},
   "outputs": [
    {
     "data": {
      "text/plain": [
       "-1.0    32804\n",
       " 1.0    32370\n",
       "Name: STRAND, dtype: int64"
      ]
     },
     "execution_count": 20,
     "metadata": {},
     "output_type": "execute_result"
    }
   ],
   "source": [
    "genetics_df.STRAND.value_counts()"
   ]
  },
  {
   "cell_type": "code",
   "execution_count": 21,
   "metadata": {},
   "outputs": [
    {
     "data": {
      "text/plain": [
       "0.97100    2836\n",
       "0.08960    1953\n",
       "0.78200    1909\n",
       "0.00386    1228\n",
       "0.02120    1094\n",
       "           ... \n",
       "0.49500       1\n",
       "0.00903       1\n",
       "0.48400       1\n",
       "0.01730       1\n",
       "0.04730       1\n",
       "Name: LoFtool, Length: 1195, dtype: int64"
      ]
     },
     "execution_count": 21,
     "metadata": {},
     "output_type": "execute_result"
    }
   ],
   "source": [
    "genetics_df.LoFtool.value_counts()"
   ]
  },
  {
   "cell_type": "code",
   "execution_count": 24,
   "metadata": {},
   "outputs": [],
   "source": [
    "# genetics_df.CADD_PHRED.value_counts()"
   ]
  },
  {
   "cell_type": "code",
   "execution_count": 25,
   "metadata": {},
   "outputs": [
    {
     "data": {
      "text/plain": [
       "TTN        2765\n",
       "BRCA2      1934\n",
       "ATM        1909\n",
       "APC        1228\n",
       "BRCA1      1075\n",
       "           ... \n",
       "HOXD10        1\n",
       "THBD          1\n",
       "C21orf2       1\n",
       "HNRNPH2       1\n",
       "KLHL24        1\n",
       "Name: SYMBOL, Length: 2328, dtype: int64"
      ]
     },
     "execution_count": 25,
     "metadata": {},
     "output_type": "execute_result"
    }
   ],
   "source": [
    "genetics_df.SYMBOL.value_counts()"
   ]
  },
  {
   "cell_type": "code",
   "execution_count": 26,
   "metadata": {},
   "outputs": [
    {
     "data": {
      "text/plain": [
       "Transcript      65172\n",
       "MotifFeature        2\n",
       "Name: Feature_type, dtype: int64"
      ]
     },
     "execution_count": 26,
     "metadata": {},
     "output_type": "execute_result"
    }
   ],
   "source": [
    "genetics_df.Feature_type.value_counts()"
   ]
  },
  {
   "cell_type": "code",
   "execution_count": 27,
   "metadata": {},
   "outputs": [
    {
     "data": {
      "text/plain": [
       "NM_001267550.1    2765\n",
       "NM_000059.3       1934\n",
       "NM_000051.3       1909\n",
       "XM_005271975.1    1228\n",
       "NM_007300.3       1075\n",
       "                  ... \n",
       "NM_181503.2          1\n",
       "NM_000496.2          1\n",
       "NM_003718.4          1\n",
       "XM_005271866.1       1\n",
       "XM_005274632.1       1\n",
       "Name: Feature, Length: 2369, dtype: int64"
      ]
     },
     "execution_count": 27,
     "metadata": {},
     "output_type": "execute_result"
    }
   ],
   "source": [
    "genetics_df.Feature.value_counts()"
   ]
  },
  {
   "cell_type": "code",
   "execution_count": 28,
   "metadata": {},
   "outputs": [
    {
     "data": {
      "text/plain": [
       "protein_coding    65158\n",
       "misc_RNA             14\n",
       "Name: BIOTYPE, dtype: int64"
      ]
     },
     "execution_count": 28,
     "metadata": {},
     "output_type": "execute_result"
    }
   ],
   "source": [
    "genetics_df.BIOTYPE.value_counts()"
   ]
  },
  {
   "cell_type": "code",
   "execution_count": 30,
   "metadata": {},
   "outputs": [],
   "source": [
    "# mean_columns = ['LoFtool', 'CADD_PHRED']\n",
    "mean_columns = ['LoFtool']\n",
    "for column in mean_columns:\n",
    "    genetics_df[column].fillna(genetics_df[column].mean(), inplace=True)"
   ]
  },
  {
   "cell_type": "code",
   "execution_count": 31,
   "metadata": {},
   "outputs": [],
   "source": [
    "mod_columns = ['MC', 'EXON', 'cDNA_position', 'CDS_position', 'Protein_position','Amino_acids','Codons', 'STRAND'\n",
    "              ,'SYMBOL','Feature_type','Feature', 'BIOTYPE' ]\n",
    "for column in mod_columns:\n",
    "    genetics_df[column].fillna(genetics_df[column].mode()[0], inplace=True)"
   ]
  },
  {
   "cell_type": "code",
   "execution_count": 32,
   "metadata": {},
   "outputs": [
    {
     "data": {
      "text/plain": [
       "CHROM               0\n",
       "POS                 0\n",
       "REF                 0\n",
       "ALT                 0\n",
       "AF_ESP              0\n",
       "CLNDISDB            0\n",
       "CLNDN               0\n",
       "CLNHGVS             0\n",
       "CLNVC               0\n",
       "MC                  0\n",
       "ORIGIN              0\n",
       "CLASS               0\n",
       "Allele              0\n",
       "Consequence         0\n",
       "IMPACT              0\n",
       "SYMBOL              0\n",
       "Feature_type        0\n",
       "Feature             0\n",
       "BIOTYPE             0\n",
       "EXON                0\n",
       "cDNA_position       0\n",
       "CDS_position        0\n",
       "Protein_position    0\n",
       "Amino_acids         0\n",
       "Codons              0\n",
       "STRAND              0\n",
       "LoFtool             0\n",
       "dtype: int64"
      ]
     },
     "execution_count": 32,
     "metadata": {},
     "output_type": "execute_result"
    }
   ],
   "source": [
    "genetics_df.isnull().sum()"
   ]
  },
  {
   "cell_type": "markdown",
   "metadata": {},
   "source": [
    "Null columns has been replace with mode or mean as appropriate"
   ]
  },
  {
   "cell_type": "code",
   "execution_count": 33,
   "metadata": {},
   "outputs": [
    {
     "data": {
      "text/html": [
       "<div>\n",
       "<style scoped>\n",
       "    .dataframe tbody tr th:only-of-type {\n",
       "        vertical-align: middle;\n",
       "    }\n",
       "\n",
       "    .dataframe tbody tr th {\n",
       "        vertical-align: top;\n",
       "    }\n",
       "\n",
       "    .dataframe thead th {\n",
       "        text-align: right;\n",
       "    }\n",
       "</style>\n",
       "<table border=\"1\" class=\"dataframe\">\n",
       "  <thead>\n",
       "    <tr style=\"text-align: right;\">\n",
       "      <th></th>\n",
       "      <th>Unique Values</th>\n",
       "    </tr>\n",
       "    <tr>\n",
       "      <th>Column Name</th>\n",
       "      <th></th>\n",
       "    </tr>\n",
       "  </thead>\n",
       "  <tbody>\n",
       "    <tr>\n",
       "      <th>CHROM</th>\n",
       "      <td>38</td>\n",
       "    </tr>\n",
       "    <tr>\n",
       "      <th>POS</th>\n",
       "      <td>63115</td>\n",
       "    </tr>\n",
       "    <tr>\n",
       "      <th>REF</th>\n",
       "      <td>866</td>\n",
       "    </tr>\n",
       "    <tr>\n",
       "      <th>ALT</th>\n",
       "      <td>458</td>\n",
       "    </tr>\n",
       "    <tr>\n",
       "      <th>AF_ESP</th>\n",
       "      <td>2842</td>\n",
       "    </tr>\n",
       "    <tr>\n",
       "      <th>CLNDISDB</th>\n",
       "      <td>9234</td>\n",
       "    </tr>\n",
       "    <tr>\n",
       "      <th>CLNDN</th>\n",
       "      <td>9260</td>\n",
       "    </tr>\n",
       "    <tr>\n",
       "      <th>CLNHGVS</th>\n",
       "      <td>65188</td>\n",
       "    </tr>\n",
       "    <tr>\n",
       "      <th>CLNVC</th>\n",
       "      <td>7</td>\n",
       "    </tr>\n",
       "    <tr>\n",
       "      <th>MC</th>\n",
       "      <td>90</td>\n",
       "    </tr>\n",
       "    <tr>\n",
       "      <th>ORIGIN</th>\n",
       "      <td>31</td>\n",
       "    </tr>\n",
       "    <tr>\n",
       "      <th>CLASS</th>\n",
       "      <td>2</td>\n",
       "    </tr>\n",
       "    <tr>\n",
       "      <th>Allele</th>\n",
       "      <td>374</td>\n",
       "    </tr>\n",
       "    <tr>\n",
       "      <th>Consequence</th>\n",
       "      <td>48</td>\n",
       "    </tr>\n",
       "    <tr>\n",
       "      <th>IMPACT</th>\n",
       "      <td>4</td>\n",
       "    </tr>\n",
       "    <tr>\n",
       "      <th>SYMBOL</th>\n",
       "      <td>2328</td>\n",
       "    </tr>\n",
       "    <tr>\n",
       "      <th>Feature_type</th>\n",
       "      <td>2</td>\n",
       "    </tr>\n",
       "    <tr>\n",
       "      <th>Feature</th>\n",
       "      <td>2369</td>\n",
       "    </tr>\n",
       "    <tr>\n",
       "      <th>BIOTYPE</th>\n",
       "      <td>2</td>\n",
       "    </tr>\n",
       "    <tr>\n",
       "      <th>EXON</th>\n",
       "      <td>3264</td>\n",
       "    </tr>\n",
       "    <tr>\n",
       "      <th>cDNA_position</th>\n",
       "      <td>13970</td>\n",
       "    </tr>\n",
       "    <tr>\n",
       "      <th>CDS_position</th>\n",
       "      <td>13663</td>\n",
       "    </tr>\n",
       "    <tr>\n",
       "      <th>Protein_position</th>\n",
       "      <td>7339</td>\n",
       "    </tr>\n",
       "    <tr>\n",
       "      <th>Amino_acids</th>\n",
       "      <td>1262</td>\n",
       "    </tr>\n",
       "    <tr>\n",
       "      <th>Codons</th>\n",
       "      <td>2220</td>\n",
       "    </tr>\n",
       "    <tr>\n",
       "      <th>STRAND</th>\n",
       "      <td>2</td>\n",
       "    </tr>\n",
       "    <tr>\n",
       "      <th>LoFtool</th>\n",
       "      <td>1196</td>\n",
       "    </tr>\n",
       "  </tbody>\n",
       "</table>\n",
       "</div>"
      ],
      "text/plain": [
       "                  Unique Values\n",
       "Column Name                    \n",
       "CHROM                        38\n",
       "POS                       63115\n",
       "REF                         866\n",
       "ALT                         458\n",
       "AF_ESP                     2842\n",
       "CLNDISDB                   9234\n",
       "CLNDN                      9260\n",
       "CLNHGVS                   65188\n",
       "CLNVC                         7\n",
       "MC                           90\n",
       "ORIGIN                       31\n",
       "CLASS                         2\n",
       "Allele                      374\n",
       "Consequence                  48\n",
       "IMPACT                        4\n",
       "SYMBOL                     2328\n",
       "Feature_type                  2\n",
       "Feature                    2369\n",
       "BIOTYPE                       2\n",
       "EXON                       3264\n",
       "cDNA_position             13970\n",
       "CDS_position              13663\n",
       "Protein_position           7339\n",
       "Amino_acids                1262\n",
       "Codons                     2220\n",
       "STRAND                        2\n",
       "LoFtool                    1196"
      ]
     },
     "execution_count": 33,
     "metadata": {},
     "output_type": "execute_result"
    }
   ],
   "source": [
    "pd.DataFrame([[i, len(genetics_df[i].unique())] for i in genetics_df.columns], \n",
    "             columns=['Column Name', 'Unique Values']).set_index('Column Name')"
   ]
  },
  {
   "cell_type": "code",
   "execution_count": 34,
   "metadata": {},
   "outputs": [],
   "source": [
    "#Dropping POS, CLNDISDB, CLNDN, CLNHGVS, cDNA_position, CDS_position, Protein_position as those features\n",
    "#has a variety of unique values and not sure about the relevance"
   ]
  },
  {
   "cell_type": "code",
   "execution_count": 35,
   "metadata": {},
   "outputs": [],
   "source": [
    "unique_value_cols = ['POS', 'CLNDISDB', 'CLNDN', 'CLNHGVS', 'cDNA_position', 'CDS_position', 'Protein_position']\n",
    "\n",
    "genetics_df.drop(unique_value_cols,axis = 1, inplace=True)"
   ]
  },
  {
   "cell_type": "code",
   "execution_count": 36,
   "metadata": {},
   "outputs": [
    {
     "name": "stdout",
     "output_type": "stream",
     "text": [
      "<class 'pandas.core.frame.DataFrame'>\n",
      "RangeIndex: 65188 entries, 0 to 65187\n",
      "Data columns (total 20 columns):\n",
      " #   Column        Non-Null Count  Dtype  \n",
      "---  ------        --------------  -----  \n",
      " 0   CHROM         65188 non-null  object \n",
      " 1   REF           65188 non-null  object \n",
      " 2   ALT           65188 non-null  object \n",
      " 3   AF_ESP        65188 non-null  float64\n",
      " 4   CLNVC         65188 non-null  object \n",
      " 5   MC            65188 non-null  object \n",
      " 6   ORIGIN        65188 non-null  int64  \n",
      " 7   CLASS         65188 non-null  int64  \n",
      " 8   Allele        65188 non-null  object \n",
      " 9   Consequence   65188 non-null  object \n",
      " 10  IMPACT        65188 non-null  object \n",
      " 11  SYMBOL        65188 non-null  object \n",
      " 12  Feature_type  65188 non-null  object \n",
      " 13  Feature       65188 non-null  object \n",
      " 14  BIOTYPE       65188 non-null  object \n",
      " 15  EXON          65188 non-null  object \n",
      " 16  Amino_acids   65188 non-null  object \n",
      " 17  Codons        65188 non-null  object \n",
      " 18  STRAND        65188 non-null  float64\n",
      " 19  LoFtool       65188 non-null  float64\n",
      "dtypes: float64(3), int64(2), object(15)\n",
      "memory usage: 9.9+ MB\n"
     ]
    }
   ],
   "source": [
    "genetics_df.info()"
   ]
  },
  {
   "cell_type": "code",
   "execution_count": 37,
   "metadata": {},
   "outputs": [],
   "source": [
    "from sklearn.preprocessing import LabelEncoder \n",
    "labelencoder= LabelEncoder()"
   ]
  },
  {
   "cell_type": "code",
   "execution_count": 38,
   "metadata": {},
   "outputs": [
    {
     "data": {
      "text/html": [
       "<div>\n",
       "<style scoped>\n",
       "    .dataframe tbody tr th:only-of-type {\n",
       "        vertical-align: middle;\n",
       "    }\n",
       "\n",
       "    .dataframe tbody tr th {\n",
       "        vertical-align: top;\n",
       "    }\n",
       "\n",
       "    .dataframe thead th {\n",
       "        text-align: right;\n",
       "    }\n",
       "</style>\n",
       "<table border=\"1\" class=\"dataframe\">\n",
       "  <thead>\n",
       "    <tr style=\"text-align: right;\">\n",
       "      <th></th>\n",
       "      <th>CHROM</th>\n",
       "      <th>REF</th>\n",
       "      <th>ALT</th>\n",
       "      <th>CLNVC</th>\n",
       "      <th>MC</th>\n",
       "      <th>Allele</th>\n",
       "      <th>Consequence</th>\n",
       "      <th>IMPACT</th>\n",
       "      <th>SYMBOL</th>\n",
       "      <th>Feature_type</th>\n",
       "      <th>Feature</th>\n",
       "      <th>BIOTYPE</th>\n",
       "      <th>EXON</th>\n",
       "      <th>Amino_acids</th>\n",
       "      <th>Codons</th>\n",
       "    </tr>\n",
       "  </thead>\n",
       "  <tbody>\n",
       "    <tr>\n",
       "      <th>count</th>\n",
       "      <td>65188</td>\n",
       "      <td>65188</td>\n",
       "      <td>65188</td>\n",
       "      <td>65188</td>\n",
       "      <td>65188</td>\n",
       "      <td>65188</td>\n",
       "      <td>65188</td>\n",
       "      <td>65188</td>\n",
       "      <td>65188</td>\n",
       "      <td>65188</td>\n",
       "      <td>65188</td>\n",
       "      <td>65188</td>\n",
       "      <td>65188</td>\n",
       "      <td>65188</td>\n",
       "      <td>65188</td>\n",
       "    </tr>\n",
       "    <tr>\n",
       "      <th>unique</th>\n",
       "      <td>38</td>\n",
       "      <td>866</td>\n",
       "      <td>458</td>\n",
       "      <td>7</td>\n",
       "      <td>90</td>\n",
       "      <td>374</td>\n",
       "      <td>48</td>\n",
       "      <td>4</td>\n",
       "      <td>2328</td>\n",
       "      <td>2</td>\n",
       "      <td>2369</td>\n",
       "      <td>2</td>\n",
       "      <td>3264</td>\n",
       "      <td>1262</td>\n",
       "      <td>2220</td>\n",
       "    </tr>\n",
       "    <tr>\n",
       "      <th>top</th>\n",
       "      <td>2</td>\n",
       "      <td>C</td>\n",
       "      <td>T</td>\n",
       "      <td>single_nucleotide_variant</td>\n",
       "      <td>SO:0001583|missense_variant</td>\n",
       "      <td>T</td>\n",
       "      <td>missense_variant</td>\n",
       "      <td>MODERATE</td>\n",
       "      <td>TTN</td>\n",
       "      <td>Transcript</td>\n",
       "      <td>NM_001267550.1</td>\n",
       "      <td>protein_coding</td>\n",
       "      <td>16/16</td>\n",
       "      <td>A</td>\n",
       "      <td>cGg/cAg</td>\n",
       "    </tr>\n",
       "    <tr>\n",
       "      <th>freq</th>\n",
       "      <td>8166</td>\n",
       "      <td>21798</td>\n",
       "      <td>20409</td>\n",
       "      <td>61281</td>\n",
       "      <td>29303</td>\n",
       "      <td>19991</td>\n",
       "      <td>31444</td>\n",
       "      <td>33212</td>\n",
       "      <td>2781</td>\n",
       "      <td>65186</td>\n",
       "      <td>2779</td>\n",
       "      <td>65174</td>\n",
       "      <td>10022</td>\n",
       "      <td>12009</td>\n",
       "      <td>10919</td>\n",
       "    </tr>\n",
       "  </tbody>\n",
       "</table>\n",
       "</div>"
      ],
      "text/plain": [
       "        CHROM    REF    ALT                      CLNVC  \\\n",
       "count   65188  65188  65188                      65188   \n",
       "unique     38    866    458                          7   \n",
       "top         2      C      T  single_nucleotide_variant   \n",
       "freq     8166  21798  20409                      61281   \n",
       "\n",
       "                                 MC Allele       Consequence    IMPACT SYMBOL  \\\n",
       "count                         65188  65188             65188     65188  65188   \n",
       "unique                           90    374                48         4   2328   \n",
       "top     SO:0001583|missense_variant      T  missense_variant  MODERATE    TTN   \n",
       "freq                          29303  19991             31444     33212   2781   \n",
       "\n",
       "       Feature_type         Feature         BIOTYPE   EXON Amino_acids  \\\n",
       "count         65188           65188           65188  65188       65188   \n",
       "unique            2            2369               2   3264        1262   \n",
       "top      Transcript  NM_001267550.1  protein_coding  16/16           A   \n",
       "freq          65186            2779           65174  10022       12009   \n",
       "\n",
       "         Codons  \n",
       "count     65188  \n",
       "unique     2220  \n",
       "top     cGg/cAg  \n",
       "freq      10919  "
      ]
     },
     "execution_count": 38,
     "metadata": {},
     "output_type": "execute_result"
    }
   ],
   "source": [
    "genetics_df.describe(include = 'O')"
   ]
  },
  {
   "cell_type": "code",
   "execution_count": 39,
   "metadata": {},
   "outputs": [],
   "source": [
    "genetics_df.CHROM = genetics_df.CHROM.replace(['MT'],'23')\n",
    "genetics_df.CHROM = genetics_df.CHROM.replace(['X'],'24')\n",
    "genetics_df.CHROM = genetics_df.CHROM.astype(str)\n",
    "genetics_df.CHROM = labelencoder.fit_transform(genetics_df.CHROM)\n",
    "genetics_df.REF = labelencoder.fit_transform(genetics_df.REF)\n",
    "genetics_df.Allele = labelencoder.fit_transform(genetics_df.Allele)\n",
    "genetics_df.ALT = labelencoder.fit_transform(genetics_df.ALT)\n",
    "genetics_df.CLNVC = labelencoder.fit_transform(genetics_df.CLNVC)\n",
    "genetics_df.MC = labelencoder.fit_transform(genetics_df.MC)\n",
    "genetics_df.Consequence = labelencoder.fit_transform(genetics_df.Consequence)\n",
    "genetics_df.IMPACT = labelencoder.fit_transform(genetics_df.IMPACT)\n",
    "genetics_df.SYMBOL = labelencoder.fit_transform(genetics_df.SYMBOL)\n",
    "genetics_df.Feature_type = labelencoder.fit_transform(genetics_df.Feature_type)\n",
    "genetics_df.Feature = labelencoder.fit_transform(genetics_df.Feature)\n",
    "genetics_df.BIOTYPE = labelencoder.fit_transform(genetics_df.BIOTYPE)\n",
    "genetics_df.EXON = labelencoder.fit_transform(genetics_df.EXON)\n",
    "genetics_df.Amino_acids = labelencoder.fit_transform(genetics_df.Amino_acids)\n",
    "genetics_df.Codons = labelencoder.fit_transform(genetics_df.Codons)"
   ]
  },
  {
   "cell_type": "code",
   "execution_count": 40,
   "metadata": {},
   "outputs": [
    {
     "name": "stdout",
     "output_type": "stream",
     "text": [
      "<class 'pandas.core.frame.DataFrame'>\n",
      "RangeIndex: 65188 entries, 0 to 65187\n",
      "Data columns (total 20 columns):\n",
      " #   Column        Non-Null Count  Dtype  \n",
      "---  ------        --------------  -----  \n",
      " 0   CHROM         65188 non-null  int64  \n",
      " 1   REF           65188 non-null  int64  \n",
      " 2   ALT           65188 non-null  int64  \n",
      " 3   AF_ESP        65188 non-null  float64\n",
      " 4   CLNVC         65188 non-null  int64  \n",
      " 5   MC            65188 non-null  int64  \n",
      " 6   ORIGIN        65188 non-null  int64  \n",
      " 7   CLASS         65188 non-null  int64  \n",
      " 8   Allele        65188 non-null  int64  \n",
      " 9   Consequence   65188 non-null  int64  \n",
      " 10  IMPACT        65188 non-null  int64  \n",
      " 11  SYMBOL        65188 non-null  int64  \n",
      " 12  Feature_type  65188 non-null  int64  \n",
      " 13  Feature       65188 non-null  int64  \n",
      " 14  BIOTYPE       65188 non-null  int64  \n",
      " 15  EXON          65188 non-null  int64  \n",
      " 16  Amino_acids   65188 non-null  int64  \n",
      " 17  Codons        65188 non-null  int64  \n",
      " 18  STRAND        65188 non-null  float64\n",
      " 19  LoFtool       65188 non-null  float64\n",
      "dtypes: float64(3), int64(17)\n",
      "memory usage: 9.9 MB\n"
     ]
    }
   ],
   "source": [
    "genetics_df.info()"
   ]
  },
  {
   "cell_type": "code",
   "execution_count": 41,
   "metadata": {},
   "outputs": [
    {
     "data": {
      "image/png": "[encoded data removed]",
      "text/plain": [
       "<Figure size 1152x576 with 1 Axes>"
      ]
     },
     "metadata": {
      "needs_background": "light"
     },
     "output_type": "display_data"
    }
   ],
   "source": [
    "plt.figure(figsize=(16,8))\n",
    "genetics_df.corr()['CLASS'].sort_values()[:-1].plot(kind='bar')\n",
    "plt.show()"
   ]
  },
  {
   "cell_type": "code",
   "execution_count": 50,
   "metadata": {},
   "outputs": [
    {
     "data": {
      "image/png": "[encoded data removed]",
      "text/plain": [
       "<Figure size 1440x720 with 2 Axes>"
      ]
     },
     "metadata": {
      "needs_background": "light"
     },
     "output_type": "display_data"
    }
   ],
   "source": [
    "\n",
    "fig = plt.figure(figsize=(20, 10))\n",
    "sns.heatmap(genetics_df.corr(), cmap='Blues', annot=True)\n",
    "plt.xticks(rotation=45)\n",
    "plt.show()"
   ]
  },
  {
   "cell_type": "code",
   "execution_count": 44,
   "metadata": {},
   "outputs": [],
   "source": [
    "drop_features = ['CLASS', 'ALT', 'MC', 'IMPACT']\n",
    "X = genetics_df.drop(drop_features, axis=1)\n",
    "y = genetics_df['CLASS']"
   ]
  },
  {
   "cell_type": "code",
   "execution_count": 45,
   "metadata": {},
   "outputs": [
    {
     "name": "stdout",
     "output_type": "stream",
     "text": [
      "<class 'pandas.core.frame.DataFrame'>\n",
      "RangeIndex: 65188 entries, 0 to 65187\n",
      "Data columns (total 16 columns):\n",
      " #   Column        Non-Null Count  Dtype  \n",
      "---  ------        --------------  -----  \n",
      " 0   CHROM         65188 non-null  int64  \n",
      " 1   REF           65188 non-null  int64  \n",
      " 2   AF_ESP        65188 non-null  float64\n",
      " 3   CLNVC         65188 non-null  int64  \n",
      " 4   ORIGIN        65188 non-null  int64  \n",
      " 5   Allele        65188 non-null  int64  \n",
      " 6   Consequence   65188 non-null  int64  \n",
      " 7   SYMBOL        65188 non-null  int64  \n",
      " 8   Feature_type  65188 non-null  int64  \n",
      " 9   Feature       65188 non-null  int64  \n",
      " 10  BIOTYPE       65188 non-null  int64  \n",
      " 11  EXON          65188 non-null  int64  \n",
      " 12  Amino_acids   65188 non-null  int64  \n",
      " 13  Codons        65188 non-null  int64  \n",
      " 14  STRAND        65188 non-null  float64\n",
      " 15  LoFtool       65188 non-null  float64\n",
      "dtypes: float64(3), int64(13)\n",
      "memory usage: 8.0 MB\n"
     ]
    }
   ],
   "source": [
    "X.info()"
   ]
  },
  {
   "cell_type": "code",
   "execution_count": 60,
   "metadata": {},
   "outputs": [],
   "source": [
    "from sklearn.model_selection import train_test_split\n",
    "from sklearn.preprocessing import StandardScaler\n",
    "from sklearn.metrics import confusion_matrix\n",
    "from sklearn.linear_model import LogisticRegression\n",
    "from sklearn.ensemble import RandomForestClassifier, GradientBoostingClassifier\n",
    "from sklearn.tree import DecisionTreeClassifier\n",
    "from sklearn.naive_bayes import GaussianNB\n",
    "from sklearn.metrics import accuracy_score\n",
    "from sklearn.metrics import classification_report\n",
    "from sklearn.metrics import confusion_matrix, f1_score, accuracy_score\n",
    "\n",
    "# Split to train and test with 80-20 ratio\n",
    "x_train, x_test, y_train, y_test = train_test_split(X, y, test_size = 0.20, random_state = 42)\n",
    "\n",
    "# Use Standard scaler for features\n",
    "scaler = StandardScaler()\n",
    "x_train = scaler.fit_transform(x_train)\n",
    "x_test = scaler.fit_transform(x_test)"
   ]
  },
  {
   "cell_type": "code",
   "execution_count": 65,
   "metadata": {},
   "outputs": [
    {
     "name": "stdout",
     "output_type": "stream",
     "text": [
      "Beginning Model Evalution\n",
      "--------------------------\n",
      "RandomForestClassifier(min_samples_leaf=4, min_samples_split=4, random_state=42)\n",
      "\n",
      "accuracy_score: 0.71\n",
      "\n",
      "Confusion Matrix\n",
      "[[8546 1222]\n",
      " [2505  765]]\n",
      "\n",
      "f1_score: 0.29\n",
      "\n",
      "              precision    recall  f1-score   support\n",
      "\n",
      "           0       0.77      0.87      0.82      9768\n",
      "           1       0.39      0.23      0.29      3270\n",
      "\n",
      "    accuracy                           0.71     13038\n",
      "   macro avg       0.58      0.55      0.56     13038\n",
      "weighted avg       0.68      0.71      0.69     13038\n",
      "\n",
      "*******************************************\n",
      "GaussianNB()\n",
      "\n",
      "accuracy_score: 0.25\n",
      "\n",
      "Confusion Matrix\n",
      "[[   0 9768]\n",
      " [   0 3270]]\n",
      "\n",
      "f1_score: 0.40\n",
      "\n",
      "              precision    recall  f1-score   support\n",
      "\n",
      "           0       0.00      0.00      0.00      9768\n",
      "           1       0.25      1.00      0.40      3270\n",
      "\n",
      "    accuracy                           0.25     13038\n",
      "   macro avg       0.13      0.50      0.20     13038\n",
      "weighted avg       0.06      0.25      0.10     13038\n",
      "\n",
      "*******************************************\n"
     ]
    }
   ],
   "source": [
    "models = []\n",
    "rfc = RandomForestClassifier(n_estimators=100, min_samples_split=4, \n",
    "                             min_samples_leaf = 4, random_state=42)\n",
    "nb = GaussianNB() \n",
    "lr = LogisticRegression()\n",
    "\n",
    "models.extend([rfc, nb])\n",
    "\n",
    "#Evaluate models and listing different evaluation metrics\n",
    "\n",
    "print(\"Beginning Model Evalution\")\n",
    "print('--------------------------')\n",
    "for model in models:\n",
    "    print(model)\n",
    "    print()\n",
    "    model.fit(x_train, y_train)\n",
    "    ypred = model.predict(x_test)\n",
    "    print(\"accuracy_score: %0.2f\" %(accuracy_score(y_test, ypred)))\n",
    "    print()\n",
    "    print('Confusion Matrix')\n",
    "    print(confusion_matrix(y_test, ypred))\n",
    "    print()\n",
    "    print(\"f1_score: %0.2f\" %(f1_score(y_test, ypred)))\n",
    "    print()\n",
    "    print(classification_report(y_test,ypred))  \n",
    "    print('*******************************************')"
   ]
  },
  {
   "cell_type": "markdown",
   "metadata": {},
   "source": [
    "#### Conclusion\n",
    "\n",
    "Target variable 0 represents consistent classifications and 1 represents conflicting classifications. Random Forest has higher accuracy than GaussianNB model. But the F1 score of Guassian model is higher than Random Forest, but still less than 50% for both the models. Based on the confusion matrix, Gaussian model doesn't show any consistent classification of Genetic variants for predicted values. So Random Forest will be the best model for this data set. \n",
    "\n",
    "Note: Multiple columns were removed when percentage of null values is more than 50%. The relevance of all features is  not known at this point. "
   ]
  },
  {
   "cell_type": "code",
   "execution_count": null,
   "metadata": {},
   "outputs": [],
   "source": []
  }
 ],
 "metadata": {
  "kernelspec": {
   "display_name": "Python 3",
   "language": "python",
   "name": "python3"
  },
  "language_info": {
   "codemirror_mode": {
    "name": "ipython",
    "version": 3
   },
   "file_extension": ".py",
   "mimetype": "text/x-python",
   "name": "python",
   "nbconvert_exporter": "python",
   "pygments_lexer": "ipython3",
   "version": "3.8.5"
  }
 },
 "nbformat": 4,
 "nbformat_minor": 4
}
